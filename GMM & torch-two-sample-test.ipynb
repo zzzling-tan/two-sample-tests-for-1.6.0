{
 "cells": [
  {
   "cell_type": "markdown",
   "metadata": {},
   "source": [
    "# Two-sample-test\n",
    "\n",
    "This notebook contains six two-sample tests implemented on GMM.\n",
    "\n",
    "Ref: https://torch-two-sample.readthedocs.io/en/latest/#djolonga17graphtests\n"
   ]
  },
  {
   "cell_type": "markdown",
   "metadata": {},
   "source": [
    "## Installation\n",
    "Install the package with: \n",
    "\n",
    "<font face=Time New Roman>python setup.py install</font>\n",
    "\n",
    "If you got error message \"unable to execute '/usr/local/bin/gcc': No such file or directory error\", you can try: \n",
    "\n",
    "<font face=Time New Roman>MACOSX_DEPLOYMENT_TARGET=10.9 CC=clang CXX=clang++ python setup.py install</font>\n",
    "\n",
    "Ref: https://github.com/pytorch/audio/issues/57\n"
   ]
  },
  {
   "cell_type": "markdown",
   "metadata": {},
   "source": [
    "## Import packages"
   ]
  },
  {
   "cell_type": "code",
   "execution_count": 1,
   "metadata": {},
   "outputs": [],
   "source": [
    "import torch\n",
    "import torch.distributions as D\n",
    "import numpy as np\n",
    "import torch_two_sample as ts\n",
    "import torch.nn as nn\n",
    "from torch.autograd import Variable\n",
    "from itertools import permutations\n",
    "from matplotlib import pyplot as plt\n",
    "\n",
    "\n",
    "dtype = torch.float\n",
    "device = torch.device(\"cpu\")"
   ]
  },
  {
   "cell_type": "code",
   "execution_count": 2,
   "metadata": {},
   "outputs": [
    {
     "name": "stdout",
     "output_type": "stream",
     "text": [
      "1.6.0\n"
     ]
    }
   ],
   "source": [
    "print(torch.__version__)"
   ]
  },
  {
   "cell_type": "markdown",
   "metadata": {},
   "source": [
    "\n",
    "## Generate GMM samples\n"
   ]
  },
  {
   "cell_type": "code",
   "execution_count": 3,
   "metadata": {},
   "outputs": [
    {
     "name": "stdout",
     "output_type": "stream",
     "text": [
      "True mean of sample 1 & 2:\n",
      " tensor([[ 0.3607, -0.2859, -0.3938],\n",
      "        [ 0.2429, -1.3833, -2.3134]])\n",
      "True mean of sample  3:\n",
      " tensor([[-0.3172, -0.8660,  1.7482],\n",
      "        [-0.2759, -0.9755,  0.4790]])\n",
      "True covariance matrix of sample 1 & 2:\n",
      " tensor([[[1.6498, 0.9685, 1.0574],\n",
      "         [0.9685, 0.7886, 0.8720],\n",
      "         [1.0574, 0.8720, 0.9651]],\n",
      "\n",
      "        [[0.2284, 0.4517, 0.3936],\n",
      "         [0.4517, 1.4348, 1.2194],\n",
      "         [0.3936, 1.2194, 1.0603]]])\n",
      "True covariance matrix of sample 3:\n",
      " tensor([[[0.6384, 0.5191, 0.9332],\n",
      "         [0.5191, 0.5413, 0.7309],\n",
      "         [0.9332, 0.7309, 1.3758]],\n",
      "\n",
      "        [[0.8527, 0.9381, 0.9646],\n",
      "         [0.9381, 1.1672, 1.3059],\n",
      "         [0.9646, 1.3059, 1.6537]]])\n"
     ]
    }
   ],
   "source": [
    "# generated 3 different samples from 3 dimensional GMM\n",
    "# - all have same components distribution (pi)\n",
    "# - first two come from the same distribution, \n",
    "# - while the last one from a distribution with a different mean & \n",
    "\n",
    "# seed\n",
    "torch.manual_seed(100)\n",
    "\n",
    "n_components = 2\n",
    "n_attributes = 3\n",
    "\n",
    "# components distribution\n",
    "mix = D.categorical.Categorical(torch.tensor([0.2, 0.8]))\n",
    "\n",
    "# - random means\n",
    "mu12 = torch.randn(n_components, n_attributes)\n",
    "mu3  = torch.randn(n_components, n_attributes)\n",
    "print(\"True mean of sample 1 & 2:\\n\", mu12)\n",
    "print(\"True mean of sample  3:\\n\", mu3)\n",
    "\n",
    "# - random covariance matrix\n",
    "def randn_sigma(n_components, n_attributes):\n",
    "    \"\"\"\n",
    "    generate random covariance matrix \n",
    "    args:\n",
    "            n_components:   number of mixed components\n",
    "            n_attributes:   number of mixed attributes\n",
    "    output: \n",
    "            covariance matrix \n",
    "    \"\"\"\n",
    "    x = torch.rand(n_components, n_attributes, n_attributes)\n",
    "    x_t = torch.transpose(x, 1, 2)\n",
    "    sigma = torch.empty(n_components, n_attributes, n_attributes)\n",
    "    for i in range(0, n_components):\n",
    "        sigma[i] = torch.mm(x[i], x_t[i])\n",
    "    return(sigma)\n",
    "sigma12 = randn_sigma(n_components, n_attributes)\n",
    "sigma3  = randn_sigma(n_components, n_attributes)\n",
    "print(\"True covariance matrix of sample 1 & 2:\\n\", sigma12)\n",
    "print(\"True covariance matrix of sample 3:\\n\", sigma3)\n",
    "\n",
    "# component distributions\n",
    "comp12 = D.multivariate_normal.MultivariateNormal(mu12, sigma12) \n",
    "comp3 = D.multivariate_normal.MultivariateNormal(mu3, sigma3) \n",
    "\n",
    "# mixture distributions\n",
    "gmm12 = D.mixture_same_family.MixtureSameFamily(mix, comp12)\n",
    "gmm3 = D.mixture_same_family.MixtureSameFamily(mix, comp3)\n",
    "\n",
    "# generate sample from GMM model & require dradient\n",
    "dat1 = gmm12.sample(torch.Size([100]))\n",
    "dat2 = gmm12.sample(torch.Size([100]))\n",
    "dat3 = gmm3.sample(torch.Size([100]))"
   ]
  },
  {
   "cell_type": "markdown",
   "metadata": {},
   "source": [
    "## Differentiable Friedman-Rafsky test"
   ]
  },
  {
   "cell_type": "markdown",
   "metadata": {},
   "source": [
    "\n",
    "\n",
    "### Statistical testing"
   ]
  },
  {
   "cell_type": "code",
   "execution_count": 4,
   "metadata": {},
   "outputs": [
    {
     "name": "stderr",
     "output_type": "stream",
     "text": [
      "/Users/zhilingtan/opt/anaconda3/lib/python3.7/site-packages/torch_two_sample-0.1-py3.7-macosx-10.9-x86_64.egg/torch_two_sample/inference_trees.py:95: UserWarning: masked_select received a mask with dtype torch.uint8, this behavior is now deprecated,please use a mask with dtype torch.bool instead. (Triggered internally at  /Users/distiller/project/conda/conda-bld/pytorch_1595629430416/work/aten/src/ATen/native/LegacyDefinitions.cpp:32.)\n",
      "  return torch.masked_select(matrix, triu_mask)\n",
      "/Users/zhilingtan/opt/anaconda3/lib/python3.7/site-packages/torch_two_sample-0.1-py3.7-macosx-10.9-x86_64.egg/torch_two_sample/inference_trees.py:79: UserWarning: masked_scatter_ received a mask with dtype torch.uint8, this behavior is now deprecated,please use a mask with dtype torch.bool instead. (Triggered internally at  /Users/distiller/project/conda/conda-bld/pytorch_1595629430416/work/aten/src/ATen/native/LegacyDefinitions.cpp:18.)\n",
      "  return matrix.masked_scatter(triu_mask, triu)\n",
      "/Users/zhilingtan/opt/anaconda3/lib/python3.7/site-packages/torch_two_sample-0.1-py3.7-macosx-10.9-x86_64.egg/torch_two_sample/statistics_diff.py:117: UserWarning: masked_select received a mask with dtype torch.uint8, this behavior is now deprecated,please use a mask with dtype torch.bool instead. (Triggered internally at  /Users/distiller/project/conda/conda-bld/pytorch_1595629430416/work/aten/src/ATen/native/LegacyDefinitions.cpp:32.)\n",
      "  t_stat = m - torch.masked_select(margs, idx_within).sum()\n"
     ]
    },
    {
     "name": "stdout",
     "output_type": "stream",
     "text": [
      "1 vs 2 0.7245067739387798\n",
      "1 vs 3 0.0\n",
      "1 vs 2 0.718999981880188\n",
      "1 vs 3 0.0\n"
     ]
    }
   ],
   "source": [
    "# create the object that implements the test\n",
    "n = 100\n",
    "fr_test = ts.SmoothFRStatistic(n, n, cuda=False, compute_t_stat=True)\n",
    "\n",
    "# compute_t_stat=True, \n",
    "# - which means that fr_test.__call__ will compute a t-statistic, \n",
    "#   so that we can obtain an approximate p-value from it using the \n",
    "#   CDF of a standard normal. \n",
    "#   We have implemented t-statistics only for the smooth graph tests.\n",
    "\n",
    "\n",
    "# compute the t-statistics\n",
    "t_val_12_sfr, matrix_12_sfr = fr_test(\n",
    "    torch.autograd.Variable(dat1), \n",
    "    torch.autograd.Variable(dat2),\n",
    "    alphas=[4.], ret_matrix=True)\n",
    "t_val_13_sfr, matrix_13_sfr = fr_test(\n",
    "    torch.autograd.Variable(dat1), \n",
    "    torch.autograd.Variable(dat3),\n",
    "    alphas=[4.], ret_matrix=True)\n",
    "\n",
    "\n",
    "# compute approximate p-values from the normal’s CDF \n",
    "from scipy.stats import norm   # To evaluate the CDF of a normal.\n",
    "print('1 vs 2', 1 - norm.cdf(t_val_12_sfr.data.item()))\n",
    "print('1 vs 3', 1 - norm.cdf(t_val_13_sfr.data.item()))\n",
    "\n",
    "\n",
    "# compute the p-value by sampling from the permutation null\n",
    "print('1 vs 2', fr_test.pval(matrix_12_sfr, n_permutations=1000))\n",
    "print('1 vs 3', fr_test.pval(matrix_13_sfr, n_permutations=1000))\n"
   ]
  },
  {
   "cell_type": "code",
   "execution_count": 5,
   "metadata": {},
   "outputs": [
    {
     "name": "stdout",
     "output_type": "stream",
     "text": [
      "-0.5962826013565063\n",
      "32.557437896728516\n"
     ]
    }
   ],
   "source": [
    "# print t-statistics\n",
    "print(t_val_12_sfr.data.item())\n",
    "print(t_val_13_sfr.data.item())"
   ]
  },
  {
   "cell_type": "markdown",
   "metadata": {},
   "source": [
    "\n",
    "### Implicit model learning"
   ]
  },
  {
   "cell_type": "code",
   "execution_count": 6,
   "metadata": {},
   "outputs": [
    {
     "name": "stderr",
     "output_type": "stream",
     "text": [
      "/Users/zhilingtan/opt/anaconda3/lib/python3.7/site-packages/torch_two_sample-0.1-py3.7-macosx-10.9-x86_64.egg/torch_two_sample/inference_trees.py:95: UserWarning: masked_select received a mask with dtype torch.uint8, this behavior is now deprecated,please use a mask with dtype torch.bool instead. (Triggered internally at  /Users/distiller/project/conda/conda-bld/pytorch_1595629430416/work/aten/src/ATen/native/LegacyDefinitions.cpp:32.)\n",
      "  return torch.masked_select(matrix, triu_mask)\n",
      "/Users/zhilingtan/opt/anaconda3/lib/python3.7/site-packages/torch_two_sample-0.1-py3.7-macosx-10.9-x86_64.egg/torch_two_sample/inference_trees.py:79: UserWarning: masked_scatter_ received a mask with dtype torch.uint8, this behavior is now deprecated,please use a mask with dtype torch.bool instead. (Triggered internally at  /Users/distiller/project/conda/conda-bld/pytorch_1595629430416/work/aten/src/ATen/native/LegacyDefinitions.cpp:18.)\n",
      "  return matrix.masked_scatter(triu_mask, triu)\n",
      "/Users/zhilingtan/opt/anaconda3/lib/python3.7/site-packages/torch_two_sample-0.1-py3.7-macosx-10.9-x86_64.egg/torch_two_sample/statistics_diff.py:117: UserWarning: masked_select received a mask with dtype torch.uint8, this behavior is now deprecated,please use a mask with dtype torch.bool instead. (Triggered internally at  /Users/distiller/project/conda/conda-bld/pytorch_1595629430416/work/aten/src/ATen/native/LegacyDefinitions.cpp:32.)\n",
      "  t_stat = m - torch.masked_select(margs, idx_within).sum()\n",
      "/Users/zhilingtan/opt/anaconda3/lib/python3.7/site-packages/torch/autograd/__init__.py:127: UserWarning: masked_scatter_ received a mask with dtype torch.uint8, this behavior is now deprecated,please use a mask with dtype torch.bool instead. (Triggered internally at  /Users/distiller/project/conda/conda-bld/pytorch_1595629430416/work/aten/src/ATen/native/LegacyDefinitions.cpp:18.)\n",
      "  allow_unreachable=True)  # allow_unreachable flag\n",
      "/Users/zhilingtan/opt/anaconda3/lib/python3.7/site-packages/torch/autograd/__init__.py:127: UserWarning: masked_select received a mask with dtype torch.uint8, this behavior is now deprecated,please use a mask with dtype torch.bool instead. (Triggered internally at  /Users/distiller/project/conda/conda-bld/pytorch_1595629430416/work/aten/src/ATen/native/LegacyDefinitions.cpp:32.)\n",
      "  allow_unreachable=True)  # allow_unreachable flag\n"
     ]
    },
    {
     "name": "stdout",
     "output_type": "stream",
     "text": [
      "epoch 10, avg loss 1.3048433363437653, p.val 0.09200485319568585\n",
      "epoch 20, avg loss 0.5313569370191544, p.val 0.4979719986792501\n",
      "epoch 30, avg loss -0.010889067500829696, p.val 0.4622570288146054\n",
      "epoch 40, avg loss 0.11309703439474106, p.val 0.6917675969960282\n",
      "epoch 50, avg loss -0.2039967080578208, p.val 0.47589316882472277\n",
      "epoch 60, avg loss 0.18020620793104172, p.val 0.7741492203626759\n",
      "epoch 70, avg loss -0.054097936302423474, p.val 0.5254214347534047\n",
      "epoch 80, avg loss -0.1847742938436568, p.val 0.5861612550120954\n",
      "epoch 90, avg loss -0.053741597570478916, p.val 0.4660057335134248\n"
     ]
    }
   ],
   "source": [
    "batch_size = 100\n",
    "epoch = 100\n",
    "avg_losses = []\n",
    "\n",
    "# generator\n",
    "generator = nn.Sequential(\n",
    "    nn.Linear(n_attributes, batch_size),  # Receive a 3 dimensional noise vector as input.\n",
    "    nn.ReLU(),  # Then, a single hidden layer of 3 units with ReLU.\n",
    "    nn.Linear(batch_size, n_attributes))  # output shape: [100, 3]\n",
    "\n",
    "# optimizer\n",
    "optimizer = torch.optim.Adam(generator.parameters(), lr=1e-3)\n",
    "\n",
    "# new sample for traning\n",
    "train = gmm12.sample(torch.Size([1000]))\n",
    "\n",
    "# loss function\n",
    "loss_fn = ts.SmoothFRStatistic(\n",
    "    batch_size, batch_size, cuda=False, compute_t_stat=True)\n",
    "\n",
    "for epoch in range(1, epoch):\n",
    "    trainloader=torch.utils.data.DataLoader(train, batch_size=batch_size)\n",
    "    \n",
    "    losses = []\n",
    "    \n",
    "    noise_tensor_sfr = torch.randn(batch_size, n_attributes)\n",
    "    noise_sfr = Variable(noise_tensor_sfr)\n",
    "    \n",
    "    for batch in trainloader:\n",
    "        noise_tensor_sfr.normal_()\n",
    "        optimizer.zero_grad()\n",
    "        loss = loss_fn(Variable(batch), generator(noise_sfr), alphas=[0.1])\n",
    "        loss.backward()\n",
    "        losses.append(loss.data.item())\n",
    "        optimizer.step()\n",
    "    avg_loss = sum(losses) / len(losses)\n",
    "    avg_losses.append(avg_loss)\n",
    "    \n",
    "    # every 10 epoch print one message\n",
    "    if epoch % 10 == 0:\n",
    "        p = 1 - norm.cdf(loss.data.item())\n",
    "        print('epoch {0:>2d}, avg loss {1}, p.val {2}'.format(epoch, avg_loss, p))"
   ]
  },
  {
   "cell_type": "markdown",
   "metadata": {},
   "source": [
    "\n",
    "\n",
    "### Model evaluation"
   ]
  },
  {
   "cell_type": "code",
   "execution_count": 7,
   "metadata": {},
   "outputs": [
    {
     "name": "stdout",
     "output_type": "stream",
     "text": [
      "tensor([ 0.2775, -1.1539, -1.9190], grad_fn=<MeanBackward1>)\n",
      "tensor([ 0.2665, -1.1638, -1.9295])\n",
      "tensor([ 0.2785, -1.1340, -1.9277])\n"
     ]
    }
   ],
   "source": [
    "print(torch.mean(generator(noise_sfr), dim = 0))\n",
    "\n",
    "print(mu12[0] * 0.2 + mu12[1] * 0.8)\n",
    "print(torch.mean(train, dim = 0))"
   ]
  },
  {
   "cell_type": "code",
   "execution_count": 8,
   "metadata": {},
   "outputs": [
    {
     "name": "stdout",
     "output_type": "stream",
     "text": [
      "[[0.29466527 0.63280032 0.60741466]\n",
      " [0.63280032 1.98724836 1.91351678]\n",
      " [0.60741466 1.91351678 1.97864187]]\n",
      "[[0.4761175  0.53412013 0.52369846]\n",
      " [0.53412013 1.42925484 1.42451161]\n",
      " [0.52369846 1.42451161 1.57511109]]\n"
     ]
    }
   ],
   "source": [
    "print(np.cov(generator(noise_sfr).detach().numpy(), rowvar=False))\n",
    "print(np.cov(train, rowvar=False))"
   ]
  },
  {
   "cell_type": "markdown",
   "metadata": {},
   "source": [
    "\n",
    "\n",
    "### Visualization"
   ]
  },
  {
   "cell_type": "code",
   "execution_count": 9,
   "metadata": {},
   "outputs": [
    {
     "data": {
      "image/png": "[encoded data removed]",
      "text/plain": [
       "<Figure size 432x288 with 1 Axes>"
      ]
     },
     "metadata": {
      "needs_background": "light"
     },
     "output_type": "display_data"
    }
   ],
   "source": [
    "plt.plot(avg_losses)\n",
    "plt.show()"
   ]
  },
  {
   "cell_type": "markdown",
   "metadata": {},
   "source": [
    "## Differentiable k-nearest neighbours (kNN) test"
   ]
  },
  {
   "cell_type": "markdown",
   "metadata": {},
   "source": [
    "### Statistical testing"
   ]
  },
  {
   "cell_type": "code",
   "execution_count": 10,
   "metadata": {},
   "outputs": [
    {
     "name": "stdout",
     "output_type": "stream",
     "text": [
      "1 vs 2 0.7643196348958232\n",
      "1 vs 3 0.0\n"
     ]
    },
    {
     "name": "stderr",
     "output_type": "stream",
     "text": [
      "/Users/zhilingtan/opt/anaconda3/lib/python3.7/site-packages/torch_two_sample-0.1-py3.7-macosx-10.9-x86_64.egg/torch_two_sample/statistics_diff.py:242: UserWarning: masked_select received a mask with dtype torch.uint8, this behavior is now deprecated,please use a mask with dtype torch.bool instead. (Triggered internally at  /Users/distiller/project/conda/conda-bld/pytorch_1595629430416/work/aten/src/ATen/native/LegacyDefinitions.cpp:32.)\n",
      "  diffs = torch.masked_select(diffs, indices).view(n, n - 1)\n",
      "/Users/zhilingtan/opt/anaconda3/lib/python3.7/site-packages/torch_two_sample-0.1-py3.7-macosx-10.9-x86_64.egg/torch_two_sample/statistics_diff.py:269: UserWarning: masked_scatter_ received a mask with dtype torch.uint8, this behavior is now deprecated,please use a mask with dtype torch.bool instead. (Triggered internally at  /Users/distiller/project/conda/conda-bld/pytorch_1595629430416/work/aten/src/ATen/native/LegacyDefinitions.cpp:18.)\n",
      "  margs.masked_scatter_(indices_cpu, margs_.view(-1))\n"
     ]
    },
    {
     "name": "stdout",
     "output_type": "stream",
     "text": [
      "1 vs 2 0.7549999952316284\n",
      "1 vs 3 0.0\n"
     ]
    }
   ],
   "source": [
    "# create the object that implements the test\n",
    "n = 100\n",
    "fr_test = ts.SmoothKNNStatistic(n, n, False, 1, compute_t_stat=True)\n",
    "\n",
    "# compute_t_stat=True, \n",
    "# - which means that fr_test.__call__ will compute a t-statistic, \n",
    "#   so that we can obtain an approximate p-value from it using the \n",
    "#   CDF of a standard normal. \n",
    "#   We have implemented t-statistics only for the smooth graph tests.\n",
    "\n",
    "\n",
    "# compute the t-statistics\n",
    "t_val_12_sknn, matrix_12_sknn = fr_test(\n",
    "    torch.autograd.Variable(dat1), \n",
    "    torch.autograd.Variable(dat2),\n",
    "    alphas=[4.], ret_matrix=True)\n",
    "t_val_13_sknn, matrix_13_sknn = fr_test(\n",
    "    torch.autograd.Variable(dat1), \n",
    "    torch.autograd.Variable(dat3),\n",
    "    alphas=[4.], ret_matrix=True)\n",
    "\n",
    "\n",
    "# compute approximate p-values from the normal’s CDF \n",
    "from scipy.stats import norm   # To evaluate the CDF of a normal.\n",
    "print('1 vs 2', 1 - norm.cdf(t_val_12_sknn.data.item()))\n",
    "print('1 vs 3', 1 - norm.cdf(t_val_13_sknn.data.item()))\n",
    "\n",
    "\n",
    "# compute the p-value by sampling from the permutation null\n",
    "print('1 vs 2', fr_test.pval(matrix_12_sknn, n_permutations=1000))\n",
    "print('1 vs 3', fr_test.pval(matrix_13_sknn, n_permutations=1000))"
   ]
  },
  {
   "cell_type": "code",
   "execution_count": 11,
   "metadata": {},
   "outputs": [
    {
     "name": "stdout",
     "output_type": "stream",
     "text": [
      "-0.7202668190002441\n",
      "28.510269165039062\n"
     ]
    }
   ],
   "source": [
    "# print t-statistics\n",
    "print(t_val_12_sknn.data.item())\n",
    "print(t_val_13_sknn.data.item())"
   ]
  },
  {
   "cell_type": "markdown",
   "metadata": {},
   "source": [
    "### Implicit model learning"
   ]
  },
  {
   "cell_type": "code",
   "execution_count": 12,
   "metadata": {},
   "outputs": [
    {
     "name": "stdout",
     "output_type": "stream",
     "text": [
      "epoch 10, avg loss 3.0293137222528457, p.val 0.3376702517696012\n",
      "epoch 20, avg loss 0.868544127047062, p.val 0.1906602040318245\n",
      "epoch 30, avg loss 0.17830850295722483, p.val 0.5941089835034372\n",
      "epoch 40, avg loss 0.0614202119410038, p.val 0.6414376662844881\n",
      "epoch 50, avg loss 0.45118196699768304, p.val 0.6644028699620553\n",
      "epoch 60, avg loss -0.1021827831864357, p.val 0.7037062390667843\n",
      "epoch 70, avg loss 0.3638848029077053, p.val 0.27579721256784584\n",
      "epoch 80, avg loss 0.22219126373529435, p.val 0.6616745058501193\n",
      "epoch 90, avg loss -0.37322318758815526, p.val 0.7121830513265247\n"
     ]
    }
   ],
   "source": [
    "batch_size = 100\n",
    "epoch = 100\n",
    "avg_losses = []\n",
    "\n",
    "# generator\n",
    "generator = nn.Sequential(\n",
    "    nn.Linear(n_attributes, batch_size),  # Receive a 3 dimensional noise vector as input.\n",
    "    nn.ReLU(),  # Then, a single hidden layer of 3 units with ReLU.\n",
    "    nn.Linear(batch_size, n_attributes))  # output shape: [100, 3]\n",
    "\n",
    "# optimizer\n",
    "optimizer = torch.optim.Adam(generator.parameters(), lr=1e-3)\n",
    "\n",
    "# new sample for traning\n",
    "train = gmm12.sample(torch.Size([1000]))\n",
    "#train.requires_grad_(True)\n",
    "\n",
    "# loss function\n",
    "loss_fn = ts.SmoothKNNStatistic(\n",
    "    batch_size, batch_size, False, 2, compute_t_stat=True)\n",
    "\n",
    "for epoch in range(1, epoch):\n",
    "    trainloader=torch.utils.data.DataLoader(train, batch_size=batch_size)\n",
    "    \n",
    "    noise_tensor_sknn = torch.randn(batch_size, n_attributes)\n",
    "    \n",
    "    losses = []\n",
    "    \n",
    "    noise_sknn = Variable(noise_tensor_sknn)\n",
    "    \n",
    "    for batch in trainloader:\n",
    "        noise_tensor_sknn.normal_()\n",
    "        optimizer.zero_grad()\n",
    "        loss = loss_fn(Variable(batch), generator(noise_sknn), alphas=[0.1])\n",
    "        loss.backward()\n",
    "        losses.append(loss.data.item())\n",
    "        optimizer.step()\n",
    "    avg_loss = sum(losses) / len(losses)\n",
    "    avg_losses.append(avg_loss)\n",
    "    \n",
    "    # every 10 epoch print one message\n",
    "    if epoch % 10 == 0:\n",
    "        p = 1 - norm.cdf(loss.data.item())\n",
    "        print('epoch {0:>2d}, avg loss {1}, p.val {2}'.format(epoch, avg_loss, p))"
   ]
  },
  {
   "cell_type": "markdown",
   "metadata": {},
   "source": [
    "### Model evaluation"
   ]
  },
  {
   "cell_type": "code",
   "execution_count": 13,
   "metadata": {},
   "outputs": [
    {
     "name": "stdout",
     "output_type": "stream",
     "text": [
      "tensor([ 0.3247, -1.1331, -1.9118], grad_fn=<MeanBackward1>)\n",
      "tensor([ 0.2665, -1.1638, -1.9295])\n",
      "tensor([ 0.2472, -1.1894, -1.9700])\n"
     ]
    }
   ],
   "source": [
    "print(torch.mean(generator(noise_sknn), dim = 0))\n",
    "\n",
    "print(mu12[0] * 0.2 + mu12[1] * 0.8)\n",
    "print(torch.mean(train, dim = 0))"
   ]
  },
  {
   "cell_type": "code",
   "execution_count": 14,
   "metadata": {},
   "outputs": [
    {
     "name": "stdout",
     "output_type": "stream",
     "text": [
      "[[0.34375988 0.59260076 0.60371385]\n",
      " [0.59260076 2.01905514 2.05011283]\n",
      " [0.60371385 2.05011283 2.26998122]]\n",
      "[[0.51554768 0.60652672 0.58887163]\n",
      " [0.60652672 1.58919164 1.55386643]\n",
      " [0.58887163 1.55386643 1.66873617]]\n"
     ]
    }
   ],
   "source": [
    "print(np.cov(generator(noise_sknn).detach().numpy(), rowvar=False))\n",
    "print(np.cov(train, rowvar=False))"
   ]
  },
  {
   "cell_type": "markdown",
   "metadata": {},
   "source": [
    "### Visualization\n"
   ]
  },
  {
   "cell_type": "code",
   "execution_count": 15,
   "metadata": {},
   "outputs": [
    {
     "data": {
      "image/png": "[encoded data removed]",
      "text/plain": [
       "<Figure size 432x288 with 1 Axes>"
      ]
     },
     "metadata": {
      "needs_background": "light"
     },
     "output_type": "display_data"
    }
   ],
   "source": [
    "plt.plot(avg_losses)\n",
    "plt.show()"
   ]
  },
  {
   "cell_type": "markdown",
   "metadata": {},
   "source": [
    "## Maximum mean discrepancy (MMD) test"
   ]
  },
  {
   "cell_type": "markdown",
   "metadata": {},
   "source": [
    "### Statistical testing"
   ]
  },
  {
   "cell_type": "code",
   "execution_count": 16,
   "metadata": {},
   "outputs": [
    {
     "name": "stdout",
     "output_type": "stream",
     "text": [
      "1 vs 2 0.5002036239108035\n",
      "1 vs 3 0.4569894437474311\n",
      "1 vs 2 0.4790000021457672\n",
      "1 vs 3 0.0\n"
     ]
    }
   ],
   "source": [
    "# create the object that implements the test\n",
    "n = 100\n",
    "fr_test = ts.MMDStatistic(n, n)\n",
    "\n",
    "# compute_t_stat=True, \n",
    "# - which means that fr_test.__call__ will compute a t-statistic, \n",
    "#   so that we can obtain an approximate p-value from it using the \n",
    "#   CDF of a standard normal. \n",
    "#   We have implemented t-statistics only for the smooth graph tests.\n",
    "\n",
    "\n",
    "# compute the t-statistics\n",
    "t_val_12_mmd, matrix_12_mmd = fr_test(\n",
    "    torch.autograd.Variable(dat1), \n",
    "    torch.autograd.Variable(dat2),\n",
    "    alphas=[4.], ret_matrix=True)\n",
    "t_val_13_mmd, matrix_13_mmd = fr_test(\n",
    "    torch.autograd.Variable(dat1), \n",
    "    torch.autograd.Variable(dat3),\n",
    "    alphas=[4.], ret_matrix=True)\n",
    "\n",
    "\n",
    "# compute approximate p-values from the normal’s CDF \n",
    "from scipy.stats import norm   # To evaluate the CDF of a normal.\n",
    "print('1 vs 2', 1 - norm.cdf(t_val_12_mmd.data.item()))\n",
    "print('1 vs 3', 1 - norm.cdf(t_val_13_mmd.data.item()))\n",
    "\n",
    "\n",
    "# compute the p-value by sampling from the permutation null\n",
    "print('1 vs 2', fr_test.pval(matrix_12_mmd, n_permutations=1000))\n",
    "print('1 vs 3', fr_test.pval(matrix_13_mmd, n_permutations=1000))"
   ]
  },
  {
   "cell_type": "code",
   "execution_count": 17,
   "metadata": {},
   "outputs": [
    {
     "name": "stdout",
     "output_type": "stream",
     "text": [
      "-0.0005104094743728638\n",
      "0.10802118480205536\n"
     ]
    }
   ],
   "source": [
    "# print t-statistics\n",
    "print(t_val_12_mmd.data.item())\n",
    "print(t_val_13_mmd.data.item())"
   ]
  },
  {
   "cell_type": "markdown",
   "metadata": {},
   "source": [
    "### implicit model learning"
   ]
  },
  {
   "cell_type": "code",
   "execution_count": 18,
   "metadata": {},
   "outputs": [
    {
     "name": "stdout",
     "output_type": "stream",
     "text": [
      "epoch 10, avg loss 0.03061848282814026, p.val 0.4850890928062973\n",
      "epoch 20, avg loss 0.00395880937576294, p.val 0.498306549366724\n",
      "epoch 30, avg loss 0.00392683744430542, p.val 0.5003207285939699\n",
      "epoch 40, avg loss 0.0056379735469818115, p.val 0.49941359090601534\n",
      "epoch 50, avg loss 0.006846904754638672, p.val 0.4994376550397348\n",
      "epoch 60, avg loss 0.0045315146446228026, p.val 0.4995995648578485\n",
      "epoch 70, avg loss 0.007047545909881592, p.val 0.5011624256242201\n",
      "epoch 80, avg loss 0.002347004413604736, p.val 0.5006068826290003\n",
      "epoch 90, avg loss 0.0018665313720703125, p.val 0.5000955432693559\n"
     ]
    }
   ],
   "source": [
    "batch_size = 100\n",
    "epoch = 100\n",
    "avg_losses = []\n",
    "\n",
    "# generator\n",
    "generator = nn.Sequential(\n",
    "    nn.Linear(n_attributes, batch_size),  # Receive a 3 dimensional noise vector as input.\n",
    "    nn.ReLU(),  # Then, a single hidden layer of 3 units with ReLU.\n",
    "    nn.Linear(batch_size, n_attributes))  # output shape: [100, 3]\n",
    "\n",
    "# optimizer\n",
    "optimizer = torch.optim.Adam(generator.parameters(), lr=1e-3)\n",
    "\n",
    "# new sample for traning\n",
    "train = gmm12.sample(torch.Size([1000]))\n",
    "\n",
    "# loss function\n",
    "loss_fn = ts.MMDStatistic(\n",
    "    batch_size, batch_size)\n",
    "\n",
    "for epoch in range(1, epoch):\n",
    "    trainloader=torch.utils.data.DataLoader(train, batch_size=batch_size)\n",
    "    \n",
    "    losses = []\n",
    "    \n",
    "    noise_tensor_mmd = torch.randn(batch_size, n_attributes)\n",
    "    noise_mmd = Variable(noise_tensor_mmd)\n",
    "    \n",
    "    for batch in trainloader:\n",
    "        noise_tensor_mmd.normal_()\n",
    "        optimizer.zero_grad()\n",
    "        loss = loss_fn(Variable(batch), generator(noise_mmd), alphas=[0.1])\n",
    "        loss.backward()\n",
    "        losses.append(loss.data.item())\n",
    "        optimizer.step()\n",
    "    avg_loss = sum(losses) / len(losses)\n",
    "    avg_losses.append(avg_loss)\n",
    "    \n",
    "    # every 10 epoch print one message\n",
    "    if epoch % 10 == 0:\n",
    "        p = 1 - norm.cdf(loss.data.item())\n",
    "        print('epoch {0:>2d}, avg loss {1}, p.val {2}'.format(epoch, avg_loss, p))"
   ]
  },
  {
   "cell_type": "markdown",
   "metadata": {},
   "source": [
    "### Model evaluation"
   ]
  },
  {
   "cell_type": "code",
   "execution_count": 19,
   "metadata": {},
   "outputs": [
    {
     "name": "stdout",
     "output_type": "stream",
     "text": [
      "tensor([ 0.2795, -1.2803, -2.1185], grad_fn=<MeanBackward1>)\n",
      "tensor([ 0.2665, -1.1638, -1.9295])\n",
      "tensor([ 0.2720, -1.2108, -1.9879])\n"
     ]
    }
   ],
   "source": [
    "print(torch.mean(generator(noise_mmd), dim = 0))\n",
    "\n",
    "print(mu12[0] * 0.2 + mu12[1] * 0.8)\n",
    "print(torch.mean(train, dim = 0))"
   ]
  },
  {
   "cell_type": "code",
   "execution_count": 20,
   "metadata": {
    "scrolled": true
   },
   "outputs": [
    {
     "name": "stdout",
     "output_type": "stream",
     "text": [
      "[[0.46535764 0.52047855 0.47175308]\n",
      " [0.52047855 1.56024825 1.58648164]\n",
      " [0.47175308 1.58648164 1.69919741]]\n",
      "[[0.46298937 0.56328553 0.54197319]\n",
      " [0.56328553 1.55949202 1.5287289 ]\n",
      " [0.54197319 1.5287289  1.64299178]]\n"
     ]
    }
   ],
   "source": [
    "print(np.cov(generator(noise_mmd).detach().numpy(), rowvar=False))\n",
    "print(np.cov(train, rowvar=False))"
   ]
  },
  {
   "cell_type": "markdown",
   "metadata": {},
   "source": [
    "### Visualization"
   ]
  },
  {
   "cell_type": "code",
   "execution_count": 21,
   "metadata": {},
   "outputs": [
    {
     "data": {
      "image/png": "[encoded data removed]",
      "text/plain": [
       "<Figure size 432x288 with 1 Axes>"
      ]
     },
     "metadata": {
      "needs_background": "light"
     },
     "output_type": "display_data"
    }
   ],
   "source": [
    "plt.plot(avg_losses)\n",
    "plt.show()"
   ]
  },
  {
   "cell_type": "markdown",
   "metadata": {},
   "source": [
    "## Energy test"
   ]
  },
  {
   "cell_type": "markdown",
   "metadata": {},
   "source": [
    "### Statistical testing "
   ]
  },
  {
   "cell_type": "code",
   "execution_count": 22,
   "metadata": {},
   "outputs": [
    {
     "name": "stdout",
     "output_type": "stream",
     "text": [
      "1 vs 2 0.48528643971020524\n",
      "1 vs 3 0.005568980696791681\n",
      "1 vs 2 0.46000000834465027\n",
      "1 vs 3 0.0\n"
     ]
    }
   ],
   "source": [
    "# create the object that implements the test\n",
    "n = 100\n",
    "fr_test = ts.EnergyStatistic(n, n)\n",
    "\n",
    "# compute_t_stat=True, \n",
    "# - which means that fr_test.__call__ will compute a t-statistic, \n",
    "#   so that we can obtain an approximate p-value from it using the \n",
    "#   CDF of a standard normal. \n",
    "#   We have implemented t-statistics only for the smooth graph tests.\n",
    "\n",
    "\n",
    "# compute the t-statistics\n",
    "t_val_12_eng, matrix_12_eng = fr_test(\n",
    "    torch.autograd.Variable(dat1), \n",
    "    torch.autograd.Variable(dat2),\n",
    "    ret_matrix=True)\n",
    "t_val_13_eng, matrix_13_eng = fr_test(\n",
    "    torch.autograd.Variable(dat1), \n",
    "    torch.autograd.Variable(dat3),\n",
    "    ret_matrix=True)\n",
    "\n",
    "\n",
    "# compute approximate p-values from the normal’s CDF \n",
    "from scipy.stats import norm   # To evaluate the CDF of a normal.\n",
    "print('1 vs 2', 1 - norm.cdf(t_val_12_eng.data.item()))\n",
    "print('1 vs 3', 1 - norm.cdf(t_val_13_eng.data.item()))\n",
    "\n",
    "\n",
    "# compute the p-value by sampling from the permutation null\n",
    "print('1 vs 2', fr_test.pval(matrix_12_eng, n_permutations=1000))\n",
    "print('1 vs 3', fr_test.pval(matrix_13_eng, n_permutations=1000))"
   ]
  },
  {
   "cell_type": "code",
   "execution_count": 23,
   "metadata": {},
   "outputs": [
    {
     "name": "stdout",
     "output_type": "stream",
     "text": [
      "0.03688979148864746\n",
      "2.5383403301239014\n"
     ]
    }
   ],
   "source": [
    "# print t-statistics\n",
    "print(t_val_12_eng.data.item())\n",
    "print(t_val_13_eng.data.item())"
   ]
  },
  {
   "cell_type": "markdown",
   "metadata": {},
   "source": [
    "### Implicit model learning"
   ]
  },
  {
   "cell_type": "code",
   "execution_count": 24,
   "metadata": {},
   "outputs": [
    {
     "name": "stdout",
     "output_type": "stream",
     "text": [
      "epoch 10, avg loss 0.21830077171325685, p.val 0.39595001317492795\n",
      "epoch 20, avg loss 0.11663748025894165, p.val 0.4450191145626512\n",
      "epoch 30, avg loss 0.08126863241195678, p.val 0.4471144552412095\n",
      "epoch 40, avg loss 0.05509335994720459, p.val 0.4787028825938483\n",
      "epoch 50, avg loss 0.051135790348052976, p.val 0.46971999147867527\n",
      "epoch 60, avg loss 0.04354811906814575, p.val 0.4805519797163368\n",
      "epoch 70, avg loss 0.06851503849029542, p.val 0.4274538811360231\n",
      "epoch 80, avg loss 0.05517507791519165, p.val 0.4785842539093068\n",
      "epoch 90, avg loss 0.060315489768981934, p.val 0.4815655250627975\n"
     ]
    }
   ],
   "source": [
    "batch_size = 100\n",
    "epoch = 100\n",
    "avg_losses = []\n",
    "\n",
    "# generator\n",
    "generator = nn.Sequential(\n",
    "    nn.Linear(n_attributes, batch_size),  # Receive a 3 dimensional noise vector as input.\n",
    "    nn.ReLU(),  # Then, a single hidden layer of 3 units with ReLU.\n",
    "    nn.Linear(batch_size, n_attributes))  # output shape: [100, 3]\n",
    "\n",
    "# optimizer\n",
    "optimizer = torch.optim.Adam(generator.parameters(), lr=1e-3)\n",
    "\n",
    "# new sample for traning\n",
    "train = gmm12.sample(torch.Size([1000]))\n",
    "\n",
    "# loss function\n",
    "loss_fn = ts.EnergyStatistic(\n",
    "    batch_size, batch_size)\n",
    "\n",
    "for epoch in range(1, epoch):\n",
    "    trainloader=torch.utils.data.DataLoader(train, batch_size=batch_size)\n",
    "    \n",
    "    losses = []\n",
    "    \n",
    "    noise_tensor_eng = torch.randn(batch_size, n_attributes)\n",
    "    noise_eng = Variable(noise_tensor_eng)\n",
    "    \n",
    "    for batch in trainloader:\n",
    "        noise_tensor_eng.normal_()\n",
    "        optimizer.zero_grad()\n",
    "        loss = loss_fn(Variable(batch), generator(noise_eng))\n",
    "        loss.backward()\n",
    "        losses.append(loss.data.item())\n",
    "        optimizer.step()\n",
    "    avg_loss = sum(losses) / len(losses)\n",
    "    avg_losses.append(avg_loss)\n",
    "    \n",
    "    # every 10 epoch print one message\n",
    "    if epoch % 10 == 0:\n",
    "        p = 1 - norm.cdf(loss.data.item())\n",
    "        print('epoch {0:>2d}, avg loss {1}, p.val {2}'.format(epoch, avg_loss, p))"
   ]
  },
  {
   "cell_type": "markdown",
   "metadata": {},
   "source": [
    "### Model evaluation"
   ]
  },
  {
   "cell_type": "code",
   "execution_count": 25,
   "metadata": {},
   "outputs": [
    {
     "name": "stdout",
     "output_type": "stream",
     "text": [
      "tensor([ 0.2554, -1.3349, -2.1676], grad_fn=<MeanBackward1>)\n",
      "tensor([ 0.2665, -1.1638, -1.9295])\n",
      "tensor([ 0.2534, -1.1784, -1.9442])\n"
     ]
    }
   ],
   "source": [
    "print(torch.mean(generator(noise_eng), dim = 0))\n",
    "\n",
    "print(mu12[0] * 0.2 + mu12[1] * 0.8)\n",
    "print(torch.mean(train, dim = 0))"
   ]
  },
  {
   "cell_type": "code",
   "execution_count": 26,
   "metadata": {},
   "outputs": [
    {
     "name": "stdout",
     "output_type": "stream",
     "text": [
      "[[0.34980881 0.56488867 0.53152254]\n",
      " [0.56488867 1.70570681 1.61282033]\n",
      " [0.53152254 1.61282033 1.68006294]]\n",
      "[[0.51204391 0.57597898 0.55267943]\n",
      " [0.57597898 1.51402221 1.48563699]\n",
      " [0.55267943 1.48563699 1.61363026]]\n"
     ]
    }
   ],
   "source": [
    "print(np.cov(generator(noise_mmd).detach().numpy(), rowvar=False))\n",
    "print(np.cov(train, rowvar=False))"
   ]
  },
  {
   "cell_type": "markdown",
   "metadata": {},
   "source": [
    "### Visualization"
   ]
  },
  {
   "cell_type": "code",
   "execution_count": 27,
   "metadata": {},
   "outputs": [
    {
     "data": {
      "image/png": "[encoded data removed]",
      "text/plain": [
       "<Figure size 432x288 with 1 Axes>"
      ]
     },
     "metadata": {
      "needs_background": "light"
     },
     "output_type": "display_data"
    }
   ],
   "source": [
    "plt.plot(avg_losses)\n",
    "plt.show()"
   ]
  },
  {
   "cell_type": "markdown",
   "metadata": {},
   "source": [
    "## Classical Friedman-Rafsky test"
   ]
  },
  {
   "cell_type": "markdown",
   "metadata": {},
   "source": [
    "### Statistical testing"
   ]
  },
  {
   "cell_type": "code",
   "execution_count": 28,
   "metadata": {},
   "outputs": [
    {
     "name": "stdout",
     "output_type": "stream",
     "text": [
      "1 vs 2 0.48528643971020524\n",
      "1 vs 3 0.005568980696791681\n",
      "1 vs 2 0.46399998664855957\n",
      "1 vs 3 0.0\n"
     ]
    }
   ],
   "source": [
    "# create the object that implements the test\n",
    "n = 100\n",
    "fr_test = ts.EnergyStatistic(n, n)\n",
    "\n",
    "# compute_t_stat=True, \n",
    "# - which means that fr_test.__call__ will compute a t-statistic, \n",
    "#   so that we can obtain an approximate p-value from it using the \n",
    "#   CDF of a standard normal. \n",
    "#   We have implemented t-statistics only for the smooth graph tests.\n",
    "\n",
    "\n",
    "# compute the t-statistics\n",
    "t_val_12_frs, matrix_12_frs = fr_test(\n",
    "    torch.autograd.Variable(dat1), \n",
    "    torch.autograd.Variable(dat2),\n",
    "    ret_matrix=True)\n",
    "t_val_13_frs, matrix_13_frs = fr_test(\n",
    "    torch.autograd.Variable(dat1), \n",
    "    torch.autograd.Variable(dat3),\n",
    "    ret_matrix=True)\n",
    "\n",
    "\n",
    "# compute approximate p-values from the normal’s CDF \n",
    "from scipy.stats import norm   # To evaluate the CDF of a normal.\n",
    "print('1 vs 2', 1 - norm.cdf(t_val_12_frs.data.item()))\n",
    "print('1 vs 3', 1 - norm.cdf(t_val_13_frs.data.item()))\n",
    "\n",
    "\n",
    "# compute the p-value by sampling from the permutation null\n",
    "print('1 vs 2', fr_test.pval(matrix_12_frs, n_permutations=1000))\n",
    "print('1 vs 3', fr_test.pval(matrix_13_frs, n_permutations=1000))"
   ]
  },
  {
   "cell_type": "code",
   "execution_count": 29,
   "metadata": {},
   "outputs": [
    {
     "name": "stdout",
     "output_type": "stream",
     "text": [
      "0.03688979148864746\n",
      "2.5383403301239014\n"
     ]
    }
   ],
   "source": [
    "# print t-statistics\n",
    "print(t_val_12_frs.data.item())\n",
    "print(t_val_13_frs.data.item())"
   ]
  },
  {
   "cell_type": "markdown",
   "metadata": {},
   "source": [
    "##  Classical k-nearest neighbours (kNN) test"
   ]
  },
  {
   "cell_type": "markdown",
   "metadata": {},
   "source": [
    "### Statistical testing"
   ]
  },
  {
   "cell_type": "code",
   "execution_count": 30,
   "metadata": {},
   "outputs": [
    {
     "name": "stdout",
     "output_type": "stream",
     "text": [
      "1 vs 2 0.0\n",
      "1 vs 3 0.0\n",
      "1 vs 2 0.9589999914169312\n",
      "1 vs 3 0.0\n"
     ]
    }
   ],
   "source": [
    "# create the object that implements the test\n",
    "n = 100\n",
    "fr_test = ts.KNNStatistic(n, n, 1)\n",
    "\n",
    "# compute_t_stat=True, \n",
    "# - which means that fr_test.__call__ will compute a t-statistic, \n",
    "#   so that we can obtain an approximate p-value from it using the \n",
    "#   CDF of a standard normal. \n",
    "#   We have implemented t-statistics only for the smooth graph tests.\n",
    "\n",
    "\n",
    "# compute the t-statistics\n",
    "t_val_12_knn, matrix_12_knn = fr_test(\n",
    "    torch.autograd.Variable(dat1), \n",
    "    torch.autograd.Variable(dat2),\n",
    "    ret_matrix=True)\n",
    "t_val_13_knn, matrix_13_knn = fr_test(\n",
    "    torch.autograd.Variable(dat1), \n",
    "    torch.autograd.Variable(dat3),\n",
    "    ret_matrix=True)\n",
    "\n",
    "\n",
    "# compute approximate p-values from the normal’s CDF \n",
    "from scipy.stats import norm   # To evaluate the CDF of a normal.\n",
    "print('1 vs 2', 1 - norm.cdf(t_val_12_knn.data.item()))\n",
    "print('1 vs 3', 1 - norm.cdf(t_val_13_knn.data.item()))\n",
    "\n",
    "\n",
    "# compute the p-value by sampling from the permutation null\n",
    "print('1 vs 2', fr_test.pval(matrix_12_knn, n_permutations=1000))\n",
    "print('1 vs 3', fr_test.pval(matrix_13_knn, n_permutations=1000))"
   ]
  },
  {
   "cell_type": "code",
   "execution_count": 31,
   "metadata": {},
   "outputs": [
    {
     "name": "stdout",
     "output_type": "stream",
     "text": [
      "84.0\n",
      "195.0\n"
     ]
    }
   ],
   "source": [
    "# print t-statistics\n",
    "print(t_val_12_knn.data.item())\n",
    "print(t_val_13_knn.data.item())"
   ]
  }
 ],
 "metadata": {
  "kernelspec": {
   "display_name": "Python 3",
   "language": "python",
   "name": "python3"
  },
  "language_info": {
   "codemirror_mode": {
    "name": "ipython",
    "version": 3
   },
   "file_extension": ".py",
   "mimetype": "text/x-python",
   "name": "python",
   "nbconvert_exporter": "python",
   "pygments_lexer": "ipython3",
   "version": "3.7.4"
  }
 },
 "nbformat": 4,
 "nbformat_minor": 2
}
